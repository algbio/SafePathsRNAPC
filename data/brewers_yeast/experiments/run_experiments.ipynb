{
 "cells": [
  {
   "cell_type": "markdown",
   "metadata": {},
   "source": [
    "Remember first to compile the c++ code in a build folder under the main folder, you can do this by\n",
    "\n",
    "```\n",
    "... in the main folder of the project\n",
    "mkdir build\n",
    "cd build\n",
    "cmake ..\n",
    "cmake .. # You need to do this twice to download dependencies\n",
    "make\n",
    "```"
   ]
  },
  {
   "cell_type": "markdown",
   "metadata": {},
   "source": [
    "To run this notebook you first need to run the notebook `data_manipulation/graph_creation.ipynb` or obtain the data generated for such notebook in the corresponding folders\n",
    "---"
   ]
  },
  {
   "cell_type": "code",
   "execution_count": 1,
   "metadata": {},
   "outputs": [],
   "source": [
    "from json import dump, load\n",
    "import networkx as nx\n",
    "\n",
    "## Load gene graphs\n",
    "\n",
    "f = open(f'../gene_graphs/vertices_inv.json', 'r')\n",
    "vertices_inv = load(f)\n",
    "f.close()\n",
    "vertices_inv = {int(k): tuple(v) for k,v in vertices_inv.items()}\n",
    "\n",
    "components = list()\n",
    "for i in range(3348): ## Number of gene_graphs\n",
    "    components.append(dict())\n",
    "    components[i]['graph'] = nx.read_edgelist(f'../gene_graphs/graphs/component_{i+1}.edgelist', delimiter=':', create_using=nx.DiGraph, nodetype=int)\n",
    "    components[i]['len'] = len(components[i]['graph'])\n",
    "    \n",
    "    f = open(f'../gene_graphs/sources/component_{i+1}.json', 'r')\n",
    "    components[i]['sources'] = set(load(f))\n",
    "    f.close()\n",
    "    \n",
    "    f = open(f'../gene_graphs/targets/component_{i+1}.json', 'r')\n",
    "    components[i]['targets'] = set(load(f))\n",
    "    f.close()\n",
    "    \n",
    "    f = open(f'../gene_graphs/vertex_constrains/component_{i+1}.json', 'r')\n",
    "    components[i]['vertex_constrains'] = set(load(f))\n",
    "    f.close()\n",
    "    \n",
    "    f = open(f'../gene_graphs/transcript_paths/component_{i+1}.json', 'r')\n",
    "    components[i]['transcript_paths'] = load(f)\n",
    "    f.close()\n",
    "    "
   ]
  },
  {
   "cell_type": "code",
   "execution_count": 2,
   "metadata": {},
   "outputs": [],
   "source": [
    "# Run MPC\n",
    "## Can be skipped if already computed\n",
    "for i in range(len(components)):\n",
    "    if components[i]['len'] > 2:\n",
    "        ! ../../../build/experiments/run_mpc \"../lgf/component_{i+1}.lgf\" > ../mpc/component_{i+1}.mpc"
   ]
  },
  {
   "cell_type": "code",
   "execution_count": 3,
   "metadata": {},
   "outputs": [],
   "source": [
    "## Function to obtain the width from the output of the previous files\n",
    "def get_width(i):\n",
    "    f = open(f'../mpc/component_{i+1}.mpc', 'r')\n",
    "    width =  f.read().split('\\n')\n",
    "    f.close()\n",
    "    width = int(width[1].split('=')[1])\n",
    "    return width"
   ]
  },
  {
   "cell_type": "code",
   "execution_count": 4,
   "metadata": {},
   "outputs": [],
   "source": [
    "## Obtain the widths of the graphs\n",
    "for i, component in enumerate(components):\n",
    "    if component['len'] > 2:\n",
    "        component['width'] = get_width(i)"
   ]
  },
  {
   "cell_type": "code",
   "execution_count": null,
   "metadata": {},
   "outputs": [],
   "source": []
  },
  {
   "cell_type": "code",
   "execution_count": 5,
   "metadata": {},
   "outputs": [],
   "source": [
    "## Compute safe paths for \\ell \\in [width .... stabilizes_at], where stabilizes_at outputs the same results as stabilizes_at-1 (and same as 2*width)\n",
    "## Can be skipped if already computed\n",
    "#\n",
    "#optimized = open('optimized.sh', 'w')\n",
    "#optimized.write('#!/bin/bash\\n')\n",
    "#\n",
    "#two_finger = open('two_finger.sh', 'w')\n",
    "#two_finger.write('#!/bin/bash\\n')\n",
    "#\n",
    "#unoptimized = open('unoptimized.sh', 'w')\n",
    "#unoptimized.write('#!/bin/bash\\n')\n",
    "#\n",
    "#heuristic = open('heuristic.sh', 'w')\n",
    "#heuristic.write('#!/bin/bash\\n')\n",
    "#\n",
    "#\n",
    "#for i, component in enumerate(components):\n",
    "#    n = len(component['graph'])\n",
    "#    t = len(component['transcript_paths'])\n",
    "#    if component['len'] > 2:\n",
    "#        width = component['width']\n",
    "#        \n",
    "#        ! /usr/bin/time -o ../safe_paths/component_{i+1}_{2*width}_mem -f \"%M,%U,%S\" ../../../build/experiments/run_safe_paths \"../lgf/component_{i+1}.lgf\" {2*width} > ../safe_paths/component_{i+1}_{2*width}\n",
    "#        optimized.write(f'/usr/bin/time -o ../safe_paths/component_{i+1}_{2*width}_mem -f \"%M,%U,%S\" ../../../build/experiments/run_safe_paths \"../lgf/component_{i+1}.lgf\" {2*width} > ../safe_paths/component_{i+1}_{2*width}\\n')\n",
    "#        two_finger.write(f'/usr/bin/time -o ../safe_paths/component_{i+1}_{2*width}_mem_two_finger -f \"%M,%U,%S\" ../../../build/experiments/run_safe_paths_two_finger \"../lgf/component_{i+1}.lgf\" {2*width} > ../safe_paths/component_{i+1}_{2*width}_two_finger\\n')\n",
    "#        unoptimized.write(f'/usr/bin/time -o ../safe_paths/component_{i+1}_{2*width}_mem_unoptimized -f \"%M,%U,%S\" ../../../build/experiments/run_safe_paths_unoptimized \"../lgf/component_{i+1}.lgf\" {2*width} > ../safe_paths/component_{i+1}_{2*width}_unoptimized\\n')\n",
    "#        heuristic.write(f'/usr/bin/time -o ../safe_paths/component_{i+1}_{2*width}_mem_heuristic -f \"%M,%U,%S\" ../../../build/experiments/run_safe_paths_safe_edges_opt \"../lgf/component_{i+1}.lgf\" {2*width} > ../safe_paths/component_{i+1}_{2*width}_heuristic\\n')\n",
    "#\n",
    "#        stabilizes_at = None\n",
    "#        two_widths_file = f'../safe_paths/component_{i+1}_{2*width}'\n",
    "#        for l in range(width, 2*width+1):\n",
    "#            ! /usr/bin/time -o ../safe_paths/component_{i+1}_{l}_mem -f \"%M,%U,%S\" ../../../build/experiments/run_safe_paths \"../lgf/component_{i+1}.lgf\" {l} > ../safe_paths/component_{i+1}_{l}\n",
    "#            optimized.write(f'/usr/bin/time -o ../safe_paths/component_{i+1}_{l}_mem -f \"%M,%U,%S\" ../../../build/experiments/run_safe_paths \"../lgf/component_{i+1}.lgf\" {l} > ../safe_paths/component_{i+1}_{l}\\n')\n",
    "#            two_finger.write(f'/usr/bin/time -o ../safe_paths/component_{i+1}_{l}_mem_two_finger -f \"%M,%U,%S\" ../../../build/experiments/run_safe_paths_two_finger \"../lgf/component_{i+1}.lgf\" {l} > ../safe_paths/component_{i+1}_{l}_two_finger\\n')\n",
    "#            unoptimized.write(f'/usr/bin/time -o ../safe_paths/component_{i+1}_{l}_mem_unoptimized -f \"%M,%U,%S\" ../../../build/experiments/run_safe_paths_unoptimized \"../lgf/component_{i+1}.lgf\" {l} > ../safe_paths/component_{i+1}_{l}_unoptimized\\n')\n",
    "#            heuristic.write(f'/usr/bin/time -o ../safe_paths/component_{i+1}_{l}_mem_heuristic -f \"%M,%U,%S\" ../../../build/experiments/run_safe_paths_safe_edges_opt \"../lgf/component_{i+1}.lgf\" {l} > ../safe_paths/component_{i+1}_{l}_heuristic\\n')\n",
    "#            \n",
    "#            df = ! diff ../safe_paths/component_{i+1}_{l} {two_widths_file}\n",
    "#            if len(df) <= 10:\n",
    "#                stabilizes_at = l\n",
    "#                break\n",
    "#            \n",
    "#        if stabilizes_at < t:\n",
    "#            \n",
    "#            ! /usr/bin/time -o ../safe_paths/component_{i+1}_{t}_mem -f \"%M,%U,%S\" ../../../build/experiments/run_safe_paths \"../lgf/component_{i+1}.lgf\" {t} > ../safe_paths/component_{i+1}_{t}\n",
    "#            optimized.write(f'/usr/bin/time -o ../safe_paths/component_{i+1}_{t}_mem -f \"%M,%U,%S\" ../../../build/experiments/run_safe_paths \"../lgf/component_{i+1}.lgf\" {t} > ../safe_paths/component_{i+1}_{t}\\n')\n",
    "#            two_finger.write(f'/usr/bin/time -o ../safe_paths/component_{i+1}_{t}_mem_two_finger -f \"%M,%U,%S\" ../../../build/experiments/run_safe_paths_two_finger \"../lgf/component_{i+1}.lgf\" {t} > ../safe_paths/component_{i+1}_{t}_two_finger\\n')\n",
    "#            unoptimized.write(f'/usr/bin/time -o ../safe_paths/component_{i+1}_{t}_mem_unoptimized -f \"%M,%U,%S\" ../../../build/experiments/run_safe_paths_unoptimized \"../lgf/component_{i+1}.lgf\" {t} > ../safe_paths/component_{i+1}_{t}_unoptimized\\n')\n",
    "#            heuristic.write(f'/usr/bin/time -o ../safe_paths/component_{i+1}_{t}_mem_heuristic -f \"%M,%U,%S\" ../../../build/experiments/run_safe_paths_safe_edges_opt \"../lgf/component_{i+1}.lgf\" {t} > ../safe_paths/component_{i+1}_{t}_heuristic\\n')\n",
    "#\n",
    "#optimized.close()\n",
    "#two_finger.close()\n",
    "#unoptimized.close()\n",
    "#heuristic.close()\n",
    "! sh optimized.sh"
   ]
  },
  {
   "cell_type": "code",
   "execution_count": 6,
   "metadata": {},
   "outputs": [],
   "source": [
    "## Given a file name (an experiment of safe_paths), it obtains the running time, peak memory, number of safe paths, and the safe_paths themselves\n",
    "def process_output(filename):\n",
    "    of = open(f'{filename}', 'r')\n",
    "    output = of.read().split('\\n')\n",
    "    of.close()\n",
    "    number_of_safe_paths = int(output[2].split('=')[-1])\n",
    "    time_main = int(output[3+number_of_safe_paths].split('=')[-1])\n",
    "    time_filter = int(output[4+number_of_safe_paths].split('=')[-1])\n",
    "    paths = output[3:3+number_of_safe_paths]\n",
    "    paths = list(map(lambda path: list(map(lambda v: int(v) ,path.split(','))) ,paths))\n",
    "    \n",
    "    mf = open(f'{filename}_mem', 'r')\n",
    "    mem = mf.read().split('\\n')\n",
    "    mf.close()\n",
    "    mem = int(mem[0].split(',')[0])\n",
    "    \n",
    "    return {\n",
    "        'number_of_safe_paths' : number_of_safe_paths,\n",
    "        'time_main': time_main,\n",
    "        'time_filter': time_filter,\n",
    "        'safe_paths': paths,\n",
    "        'peak_memory': mem\n",
    "    }"
   ]
  },
  {
   "cell_type": "code",
   "execution_count": 7,
   "metadata": {},
   "outputs": [],
   "source": [
    "## Read the results from the file\n",
    "for i, component in enumerate(components):\n",
    "    if component['len'] > 2:\n",
    "        width = component['width']\n",
    "        n = len(component['graph'])\n",
    "        t = len(component['transcript_paths'])\n",
    "    \n",
    "        component['experiments'] = dict()\n",
    "        \n",
    "        for j in range(width, 2*width):\n",
    "            try:\n",
    "                d = process_output(f'../safe_paths/component_{i+1}_{j}')\n",
    "                component['experiments'][j] = d\n",
    "            except:\n",
    "                break\n",
    "        \n",
    "        ## At number of transcripts\n",
    "        d = process_output(f'../safe_paths/component_{i+1}_{t}')\n",
    "        component['experiments'][t] = d\n",
    "        \n",
    "        ## At 2width\n",
    "        d = process_output(f'../safe_paths/component_{i+1}_{2*width}')\n",
    "        component['experiments'][2*width] = d"
   ]
  },
  {
   "cell_type": "code",
   "execution_count": 9,
   "metadata": {},
   "outputs": [],
   "source": [
    "from json import dump\n",
    "## Store these results to a file in json format\n",
    "\n",
    "for i, component in enumerate(components):\n",
    "    if component['len'] > 2:\n",
    "        d = dict()\n",
    "        d['width'] = component['width']\n",
    "        d['number_of_transcripts'] = len(component['transcript_paths'])\n",
    "        d['experiments'] = component['experiments']\n",
    "        \n",
    "        file = open(f'../safe_paths_json/component_{i+1}.json' , 'w')\n",
    "        dump(d, file)\n",
    "        file.close()"
   ]
  },
  {
   "cell_type": "code",
   "execution_count": null,
   "metadata": {},
   "outputs": [],
   "source": []
  },
  {
   "cell_type": "code",
   "execution_count": 10,
   "metadata": {},
   "outputs": [],
   "source": [
    "## Two finger approach"
   ]
  },
  {
   "cell_type": "code",
   "execution_count": 11,
   "metadata": {},
   "outputs": [],
   "source": [
    "## Can be skipped if already computed\n",
    "! sh two_finger.sh"
   ]
  },
  {
   "cell_type": "code",
   "execution_count": 12,
   "metadata": {},
   "outputs": [],
   "source": [
    "## Given a file name (an experiment of safe_paths_two_finger), it obtains the running time and peak memory\n",
    "def process_output_two_finger(filename):\n",
    "    of = open(f'{filename}_two_finger', 'r')\n",
    "    output = of.read().split('\\n')\n",
    "    of.close()\n",
    "    time_main = int(output[2].split('=')[-1])\n",
    "    time_filter = int(output[3].split('=')[-1])\n",
    "    \n",
    "    \n",
    "    mf = open(f'{filename}_mem_two_finger', 'r')\n",
    "    mem = mf.read().split('\\n')\n",
    "    mf.close()\n",
    "    mem = int(mem[0].split(',')[0])\n",
    "    \n",
    "    return {\n",
    "        'time_main': time_main,\n",
    "        'time_filter': time_filter,\n",
    "        'peak_mem': mem\n",
    "    }"
   ]
  },
  {
   "cell_type": "code",
   "execution_count": 13,
   "metadata": {},
   "outputs": [],
   "source": [
    "## Read the results from the file\n",
    "for i, component in enumerate(components):\n",
    "    if component['len'] > 2:\n",
    "        width = component['width']\n",
    "        n = len(component['graph'])\n",
    "        t = len(component['transcript_paths'])\n",
    "    \n",
    "        component['experiments_two_finger'] = dict()\n",
    "        \n",
    "        for j in range(width, 2*width):\n",
    "            try:\n",
    "                d = process_output_two_finger(f'../safe_paths/component_{i+1}_{j}')\n",
    "                component['experiments_two_finger'][j] = d\n",
    "            except:\n",
    "                break\n",
    "        \n",
    "        ## At number of transcripts\n",
    "        d = process_output_two_finger(f'../safe_paths/component_{i+1}_{t}')\n",
    "        component['experiments_two_finger'][t] = d\n",
    "        \n",
    "        ## At 2width\n",
    "        d = process_output_two_finger(f'../safe_paths/component_{i+1}_{2*width}')\n",
    "        component['experiments_two_finger'][2*width] = d"
   ]
  },
  {
   "cell_type": "code",
   "execution_count": 14,
   "metadata": {},
   "outputs": [],
   "source": [
    "from json import dump\n",
    "## Store these results to a file in json format\n",
    "\n",
    "for i, component in enumerate(components):\n",
    "    if component['len'] > 2:\n",
    "        d = dict()\n",
    "        d['width'] = component['width']\n",
    "        d['number_of_transcripts'] = len(component['transcript_paths'])\n",
    "        d['experiments'] = component['experiments']\n",
    "        d['experiments_two_finger'] = component['experiments_two_finger']\n",
    "        \n",
    "        file = open(f'../safe_paths_json/component_{i+1}.json' , 'w')\n",
    "        dump(d, file)\n",
    "        file.close()"
   ]
  },
  {
   "cell_type": "code",
   "execution_count": null,
   "metadata": {},
   "outputs": [],
   "source": []
  },
  {
   "cell_type": "code",
   "execution_count": 15,
   "metadata": {},
   "outputs": [],
   "source": [
    "## Unoptimized approach"
   ]
  },
  {
   "cell_type": "code",
   "execution_count": 16,
   "metadata": {},
   "outputs": [],
   "source": [
    "## Can be skipped if already computed\n",
    "! sh unoptimized.sh"
   ]
  },
  {
   "cell_type": "code",
   "execution_count": 17,
   "metadata": {},
   "outputs": [],
   "source": [
    "## Given a file name (an experiment of safe_paths_unoptimized), it obtains the running time and peak memory\n",
    "def process_output_unoptimized(filename):\n",
    "    of = open(f'{filename}_unoptimized', 'r')\n",
    "    output = of.read().split('\\n')\n",
    "    of.close()\n",
    "    time_main = int(output[2].split('=')[-1])\n",
    "    time_filter = int(output[3].split('=')[-1])\n",
    "    \n",
    "    \n",
    "    mf = open(f'{filename}_mem_unoptimized', 'r')\n",
    "    mem = mf.read().split('\\n')\n",
    "    mf.close()\n",
    "    mem = int(mem[0].split(',')[0])\n",
    "    \n",
    "    return {\n",
    "        'time_main': time_main,\n",
    "        'time_filter': time_filter,\n",
    "        'peak_mem': mem\n",
    "    }"
   ]
  },
  {
   "cell_type": "code",
   "execution_count": 18,
   "metadata": {},
   "outputs": [],
   "source": [
    "## Read the results from the file\n",
    "for i, component in enumerate(components):\n",
    "    if component['len'] > 2:\n",
    "        width = component['width']\n",
    "        n = len(component['graph'])\n",
    "        t = len(component['transcript_paths'])\n",
    "    \n",
    "        component['experiments_unoptimized'] = dict()\n",
    "        \n",
    "        for j in range(width, 2*width):\n",
    "            try:\n",
    "                d = process_output_unoptimized(f'../safe_paths/component_{i+1}_{j}')\n",
    "                component['experiments_unoptimized'][j] = d\n",
    "            except:\n",
    "                break\n",
    "        \n",
    "        ## At number of transcripts\n",
    "        d = process_output_unoptimized(f'../safe_paths/component_{i+1}_{t}')\n",
    "        component['experiments_unoptimized'][t] = d\n",
    "        \n",
    "        ## At 2width\n",
    "        d = process_output_unoptimized(f'../safe_paths/component_{i+1}_{2*width}')\n",
    "        component['experiments_unoptimized'][2*width] = d"
   ]
  },
  {
   "cell_type": "code",
   "execution_count": 19,
   "metadata": {},
   "outputs": [],
   "source": [
    "from json import dump\n",
    "## Store these results to a file in json format\n",
    "\n",
    "for i, component in enumerate(components):\n",
    "    if component['len'] > 2:\n",
    "        d = dict()\n",
    "        d['width'] = component['width']\n",
    "        d['number_of_transcripts'] = len(component['transcript_paths'])\n",
    "        d['experiments'] = component['experiments']\n",
    "        d['experiments_two_finger'] = component['experiments_two_finger']\n",
    "        d['experiments_unoptimized'] = component['experiments_unoptimized']\n",
    "        \n",
    "        file = open(f'../safe_paths_json/component_{i+1}.json' , 'w')\n",
    "        dump(d, file)\n",
    "        file.close()"
   ]
  },
  {
   "cell_type": "code",
   "execution_count": null,
   "metadata": {},
   "outputs": [],
   "source": []
  },
  {
   "cell_type": "code",
   "execution_count": 20,
   "metadata": {},
   "outputs": [],
   "source": [
    "## Heuristic approach"
   ]
  },
  {
   "cell_type": "code",
   "execution_count": 20,
   "metadata": {},
   "outputs": [],
   "source": [
    "## Can be skipped if already computed\n",
    "! sh heuristic.sh"
   ]
  },
  {
   "cell_type": "code",
   "execution_count": 21,
   "metadata": {},
   "outputs": [],
   "source": [
    "## Given a file name (an experiment of safe_paths_heuristic), it obtains the running time and peak memory\n",
    "def process_output_heuristic(filename):\n",
    "    of = open(f'{filename}_heuristic', 'r')\n",
    "    output = of.read().split('\\n')\n",
    "    of.close()\n",
    "    time_main = int(output[2].split('=')[-1])\n",
    "    time_filter = int(output[3].split('=')[-1])\n",
    "    \n",
    "    \n",
    "    mf = open(f'{filename}_mem_heuristic', 'r')\n",
    "    mem = mf.read().split('\\n')\n",
    "    mf.close()\n",
    "    mem = int(mem[0].split(',')[0])\n",
    "    \n",
    "    return {\n",
    "        'time_main': time_main,\n",
    "        'time_filter': time_filter,\n",
    "        'peak_mem': mem\n",
    "    }"
   ]
  },
  {
   "cell_type": "code",
   "execution_count": 22,
   "metadata": {},
   "outputs": [],
   "source": [
    "## Read the results from the file\n",
    "for i, component in enumerate(components):\n",
    "    if component['len'] > 2:\n",
    "        width = component['width']\n",
    "        n = len(component['graph'])\n",
    "        t = len(component['transcript_paths'])\n",
    "    \n",
    "        component['experiments_heuristic'] = dict()\n",
    "        \n",
    "        for j in range(width, 2*width):\n",
    "            try:\n",
    "                d = process_output_heuristic(f'../safe_paths/component_{i+1}_{j}')\n",
    "                component['experiments_heuristic'][j] = d\n",
    "            except:\n",
    "                break\n",
    "        \n",
    "        ## At number of transcripts\n",
    "        d = process_output_heuristic(f'../safe_paths/component_{i+1}_{t}')\n",
    "        component['experiments_heuristic'][t] = d\n",
    "        \n",
    "        ## At 2width\n",
    "        d = process_output_heuristic(f'../safe_paths/component_{i+1}_{2*width}')\n",
    "        component['experiments_heuristic'][2*width] = d"
   ]
  },
  {
   "cell_type": "code",
   "execution_count": 23,
   "metadata": {},
   "outputs": [],
   "source": [
    "from json import dump\n",
    "## Store these results to a file in json format\n",
    "\n",
    "for i, component in enumerate(components):\n",
    "    if component['len'] > 2:\n",
    "        d = dict()\n",
    "        d['width'] = component['width']\n",
    "        d['number_of_transcripts'] = len(component['transcript_paths'])\n",
    "        d['experiments'] = component['experiments']\n",
    "        d['experiments_two_finger'] = component['experiments_two_finger']\n",
    "        d['experiments_unoptimized'] = component['experiments_unoptimized']\n",
    "        d['experiments_heuristic'] = component['experiments_heuristic']\n",
    "        \n",
    "        file = open(f'../safe_paths_json/component_{i+1}.json' , 'w')\n",
    "        dump(d, file)\n",
    "        file.close()"
   ]
  },
  {
   "cell_type": "code",
   "execution_count": null,
   "metadata": {},
   "outputs": [],
   "source": []
  }
 ],
 "metadata": {
  "kernelspec": {
   "display_name": "Python 3 (ipykernel)",
   "language": "python",
   "name": "python3"
  },
  "language_info": {
   "codemirror_mode": {
    "name": "ipython",
    "version": 3
   },
   "file_extension": ".py",
   "mimetype": "text/x-python",
   "name": "python",
   "nbconvert_exporter": "python",
   "pygments_lexer": "ipython3",
   "version": "3.9.6"
  }
 },
 "nbformat": 4,
 "nbformat_minor": 4
}
